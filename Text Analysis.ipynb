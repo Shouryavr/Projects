{
 "cells": [
  {
   "cell_type": "markdown",
   "metadata": {},
   "source": [
    "# <img style=\"float: left; padding-right: 10px; width: 45px\" src=\"https://raw.githubusercontent.com/Harvard-IACS/2018-CS109A/master/content/styles/iacs.png\"> Data Science 2: Advanced Topics in Data Science \n",
    "## Topic Analysis - Trump tweets on Twitter\n",
    "\n",
    "\n",
    "\n",
    "**Harvard University**<br/>\n",
    "**Spring 2019**<br/>\n",
    "**Instructors**: Mark Glickman and Pavlos Protopapas \n",
    "\n",
    "\n",
    "<hr style=\"height:2pt\">"
   ]
  },
  {
   "cell_type": "code",
   "execution_count": 1,
   "metadata": {},
   "outputs": [
    {
     "data": {
      "text/html": [
       "<style>\n",
       "blockquote { background: #AEDE94; }\n",
       "h1 { \n",
       "    padding-top: 25px;\n",
       "    padding-bottom: 25px;\n",
       "    text-align: left; \n",
       "    padding-left: 10px;\n",
       "    background-color: #DDDDDD; \n",
       "    color: black;\n",
       "}\n",
       "h2 { \n",
       "    padding-top: 10px;\n",
       "    padding-bottom: 10px;\n",
       "    text-align: left; \n",
       "    padding-left: 5px;\n",
       "    background-color: #EEEEEE; \n",
       "    color: black;\n",
       "}\n",
       "\n",
       "div.exercise {\n",
       "\tbackground-color: #ffcccc;\n",
       "\tborder-color: #E9967A; \t\n",
       "\tborder-left: 5px solid #800080; \n",
       "\tpadding: 0.5em;\n",
       "}\n",
       "\n",
       "span.sub-q {\n",
       "\tfont-weight: bold;\n",
       "}\n",
       "div.theme {\n",
       "\tbackground-color: #DDDDDD;\n",
       "\tborder-color: #E9967A; \t\n",
       "\tborder-left: 5px solid #800080; \n",
       "\tpadding: 0.5em;\n",
       "\tfont-size: 18pt;\n",
       "}\n",
       "div.gc { \n",
       "\tbackground-color: #AEDE94;\n",
       "\tborder-color: #E9967A; \t \n",
       "\tborder-left: 5px solid #800080; \n",
       "\tpadding: 0.5em;\n",
       "\tfont-size: 12pt;\n",
       "}\n",
       "p.q1 { \n",
       "    padding-top: 5px;\n",
       "    padding-bottom: 5px;\n",
       "    text-align: left; \n",
       "    padding-left: 5px;\n",
       "    background-color: #EEEEEE; \n",
       "    color: black;\n",
       "}\n",
       "header {\n",
       "   padding-top: 35px;\n",
       "    padding-bottom: 35px;\n",
       "    text-align: left; \n",
       "    padding-left: 10px;\n",
       "    background-color: #DDDDDD; \n",
       "    color: black;\n",
       "}\n",
       "</style>\n",
       "\n"
      ],
      "text/plain": [
       "<IPython.core.display.HTML object>"
      ]
     },
     "execution_count": 1,
     "metadata": {},
     "output_type": "execute_result"
    }
   ],
   "source": [
    "#PLEASE RUN THIS CELL \n",
    "import requests\n",
    "from IPython.core.display import HTML\n",
    "styles = requests.get(\"https://raw.githubusercontent.com/Harvard-IACS/2018-CS109A/master/content/styles/cs109.css\").text\n",
    "HTML(styles)"
   ]
  },
  {
   "cell_type": "markdown",
   "metadata": {},
   "source": [
    "### INSTRUCTIONS\n",
    "\n",
    "- To submit your assignment, please follow the instructions on Canvas.\n",
    "- Please restart the kernel and run the entire notebook again before you submit.\n",
    "\n",
    "<hr style=\"height:2pt\">"
   ]
  },
  {
   "cell_type": "markdown",
   "metadata": {},
   "source": [
    "### Please use the libraries below:"
   ]
  },
  {
   "cell_type": "code",
   "execution_count": 2,
   "metadata": {},
   "outputs": [],
   "source": [
    "import os\n",
    "os.environ['R_HOME'] = \"/usr/share/anaconda3/lib/R\""
   ]
  },
  {
   "cell_type": "code",
   "execution_count": 3,
   "metadata": {},
   "outputs": [],
   "source": [
    "import pyjags\n",
    "import pandas as pd\n",
    "from rpy2.robjects.packages import importr\n",
    "r_utils = importr('utils')\n",
    "import numpy as np\n",
    "%matplotlib inline \n",
    "import matplotlib.pyplot as plt\n",
    "import rpy2\n",
    "from rpy2.robjects import pandas2ri\n",
    "pandas2ri.activate()\n",
    "\n",
    "# r_utils.install_packages('coda')\n",
    "r_coda = importr('coda')\n",
    "from sklearn.feature_extraction.text import CountVectorizer\n",
    "from gensim.corpora import Dictionary\n",
    "from gensim.models.ldamodel import LdaModel\n",
    "from gensim.models import CoherenceModel\n",
    "from nltk.corpus import stopwords\n",
    "from nltk.tokenize import RegexpTokenizer\n",
    "from datetime import datetime\n",
    "from scipy.special import expit"
   ]
  },
  {
   "cell_type": "code",
   "execution_count": 4,
   "metadata": {},
   "outputs": [],
   "source": [
    "import nltk\n",
    "from collections import Counter\n",
    "#download only once\n",
    "# nltk.download('stopwords')  \n",
    "from matplotlib import gridspec\n",
    "from scipy.special import logit, expit"
   ]
  },
  {
   "cell_type": "markdown",
   "metadata": {},
   "source": [
    "Note that this has been tested with \n",
    "* pandas version 0.22.0\n",
    "* rpy2 version 2.9.4\n",
    "\n",
    "The latest libraries may have changed somewhat since these versions; if you are having problems, try using these versions."
   ]
  },
  {
   "cell_type": "markdown",
   "metadata": {},
   "source": [
    "\n",
    "<hr style=\"height:2pt\">"
   ]
  },
  {
   "cell_type": "markdown",
   "metadata": {},
   "source": [
    "### Problem 1: President Donald Trump's Tweets\n",
    "\n",
    "In the first part of this assignment, you will be working with text from the @realDonaldTrump Twitter account. This consists of all tweets from the account from 5/4/2009 to 2/26/2019. The goal is to use Latent Dirichlet Allocation in order to model the topics tweeted about since President Trump's inauguration.\n",
    "\n",
    "The dataset is from http://www.trumptwitterarchive.com/archive."
   ]
  },
  {
   "cell_type": "markdown",
   "metadata": {},
   "source": [
    "Start by reading the dataset into a pandas data frame."
   ]
  },
  {
   "cell_type": "code",
   "execution_count": 5,
   "metadata": {},
   "outputs": [
    {
     "data": {
      "text/html": [
       "<div>\n",
       "<style scoped>\n",
       "    .dataframe tbody tr th:only-of-type {\n",
       "        vertical-align: middle;\n",
       "    }\n",
       "\n",
       "    .dataframe tbody tr th {\n",
       "        vertical-align: top;\n",
       "    }\n",
       "\n",
       "    .dataframe thead th {\n",
       "        text-align: right;\n",
       "    }\n",
       "</style>\n",
       "<table border=\"1\" class=\"dataframe\">\n",
       "  <thead>\n",
       "    <tr style=\"text-align: right;\">\n",
       "      <th></th>\n",
       "      <th>text</th>\n",
       "      <th>created_at</th>\n",
       "    </tr>\n",
       "  </thead>\n",
       "  <tbody>\n",
       "    <tr>\n",
       "      <th>0</th>\n",
       "      <td>Be sure to tune in and watch Donald Trump on L...</td>\n",
       "      <td>05-04-2009 18:54:25</td>\n",
       "    </tr>\n",
       "    <tr>\n",
       "      <th>1</th>\n",
       "      <td>Donald Trump will be appearing on The View tom...</td>\n",
       "      <td>05-05-2009 01:00:10</td>\n",
       "    </tr>\n",
       "    <tr>\n",
       "      <th>2</th>\n",
       "      <td>Donald Trump reads Top Ten Financial Tips on L...</td>\n",
       "      <td>05-08-2009 13:38:08</td>\n",
       "    </tr>\n",
       "    <tr>\n",
       "      <th>3</th>\n",
       "      <td>New Blog Post: Celebrity Apprentice Finale and...</td>\n",
       "      <td>05-08-2009 20:40:15</td>\n",
       "    </tr>\n",
       "    <tr>\n",
       "      <th>4</th>\n",
       "      <td>My persona will never be that of a wallflower ...</td>\n",
       "      <td>05-12-2009 14:07:28</td>\n",
       "    </tr>\n",
       "  </tbody>\n",
       "</table>\n",
       "</div>"
      ],
      "text/plain": [
       "                                                text           created_at\n",
       "0  Be sure to tune in and watch Donald Trump on L...  05-04-2009 18:54:25\n",
       "1  Donald Trump will be appearing on The View tom...  05-05-2009 01:00:10\n",
       "2  Donald Trump reads Top Ten Financial Tips on L...  05-08-2009 13:38:08\n",
       "3  New Blog Post: Celebrity Apprentice Finale and...  05-08-2009 20:40:15\n",
       "4  My persona will never be that of a wallflower ...  05-12-2009 14:07:28"
      ]
     },
     "execution_count": 5,
     "metadata": {},
     "output_type": "execute_result"
    }
   ],
   "source": [
    "#read the data file and load it into pandas dataframe\n",
    "df = pd.read_csv(\"trump_tweets.csv\")\n",
    "df.head()"
   ]
  },
  {
   "cell_type": "code",
   "execution_count": 6,
   "metadata": {},
   "outputs": [
    {
     "data": {
      "text/plain": [
       "(Index(['text', 'created_at'], dtype='object'), (34118, 2))"
      ]
     },
     "execution_count": 6,
     "metadata": {},
     "output_type": "execute_result"
    }
   ],
   "source": [
    "df.columns, df.shape"
   ]
  },
  {
   "cell_type": "code",
   "execution_count": 7,
   "metadata": {},
   "outputs": [
    {
     "data": {
      "text/plain": [
       "text          0\n",
       "created_at    4\n",
       "dtype: int64"
      ]
     },
     "execution_count": 7,
     "metadata": {},
     "output_type": "execute_result"
    }
   ],
   "source": [
    "pd.isna(df).sum()"
   ]
  },
  {
   "cell_type": "code",
   "execution_count": 8,
   "metadata": {},
   "outputs": [],
   "source": [
    "df.dropna(axis=0, inplace=True)"
   ]
  },
  {
   "cell_type": "code",
   "execution_count": 9,
   "metadata": {},
   "outputs": [
    {
     "data": {
      "text/plain": [
       "(34114, 2)"
      ]
     },
     "execution_count": 9,
     "metadata": {},
     "output_type": "execute_result"
    }
   ],
   "source": [
    "df.shape"
   ]
  },
  {
   "cell_type": "markdown",
   "metadata": {},
   "source": [
    "Now, extract only the rows since President Trump's inauguration on January 20, 2017 (you can use midnight on that date as the start time). You should use the datetime.strptime to convert dates to type `datetime`. Hint: first, you should remove any rows with missing timestamps."
   ]
  },
  {
   "cell_type": "code",
   "execution_count": 14,
   "metadata": {},
   "outputs": [
    {
     "data": {
      "text/plain": [
       "(Timestamp('2009-05-04 18:54:25'), Timestamp('2019-03-26 14:49:07'))"
      ]
     },
     "execution_count": 14,
     "metadata": {},
     "output_type": "execute_result"
    }
   ],
   "source": [
    "df['created_at'] = pd.to_datetime(df['created_at'])\n",
    "np.min(df.created_at), np.max(df.created_at)"
   ]
  },
  {
   "cell_type": "code",
   "execution_count": 15,
   "metadata": {},
   "outputs": [
    {
     "data": {
      "text/plain": [
       "(Timestamp('2017-01-20 00:40:51'), Timestamp('2019-03-26 14:49:07'))"
      ]
     },
     "execution_count": 15,
     "metadata": {},
     "output_type": "execute_result"
    }
   ],
   "source": [
    "new_df = df[df['created_at'] >= '01-20-2017 00:00:00'].copy()\n",
    "np.min(new_df.created_at), np.max(new_df.created_at)"
   ]
  },
  {
   "cell_type": "code",
   "execution_count": 16,
   "metadata": {},
   "outputs": [
    {
     "data": {
      "text/plain": [
       "(6882, 2)"
      ]
     },
     "execution_count": 16,
     "metadata": {},
     "output_type": "execute_result"
    }
   ],
   "source": [
    "new_df.shape"
   ]
  },
  {
   "cell_type": "code",
   "execution_count": 17,
   "metadata": {},
   "outputs": [
    {
     "data": {
      "text/plain": [
       "Index(['text', 'created_at'], dtype='object')"
      ]
     },
     "execution_count": 17,
     "metadata": {},
     "output_type": "execute_result"
    }
   ],
   "source": [
    "new_df.columns"
   ]
  },
  {
   "cell_type": "markdown",
   "metadata": {},
   "source": [
    "Preprocess the data by making it all lowercase. Remove a reasonable set of stopwords from the dataset and tokenize. Then, report the 50 most common words and their count. You may need to iterate this process, adding some stop words as you understand the structure of the data. Justify additional stop words you've added.\n"
   ]
  },
  {
   "cell_type": "code",
   "execution_count": 19,
   "metadata": {
    "scrolled": true
   },
   "outputs": [
    {
     "data": {
      "text/html": [
       "<div>\n",
       "<style scoped>\n",
       "    .dataframe tbody tr th:only-of-type {\n",
       "        vertical-align: middle;\n",
       "    }\n",
       "\n",
       "    .dataframe tbody tr th {\n",
       "        vertical-align: top;\n",
       "    }\n",
       "\n",
       "    .dataframe thead th {\n",
       "        text-align: right;\n",
       "    }\n",
       "</style>\n",
       "<table border=\"1\" class=\"dataframe\">\n",
       "  <thead>\n",
       "    <tr style=\"text-align: right;\">\n",
       "      <th></th>\n",
       "      <th>text</th>\n",
       "      <th>created_at</th>\n",
       "    </tr>\n",
       "  </thead>\n",
       "  <tbody>\n",
       "    <tr>\n",
       "      <th>27236</th>\n",
       "      <td>thank you for joining us at the lincoln memori...</td>\n",
       "      <td>2017-01-20 00:40:51</td>\n",
       "    </tr>\n",
       "    <tr>\n",
       "      <th>27237</th>\n",
       "      <td>thank you for a wonderful evening in washingto...</td>\n",
       "      <td>2017-01-20 04:24:33</td>\n",
       "    </tr>\n",
       "    <tr>\n",
       "      <th>27238</th>\n",
       "      <td>it all begins today! i will see you at 11:00 a...</td>\n",
       "      <td>2017-01-20 12:31:53</td>\n",
       "    </tr>\n",
       "    <tr>\n",
       "      <th>27239</th>\n",
       "      <td>today we are not merely transferring power fro...</td>\n",
       "      <td>2017-01-20 17:51:25</td>\n",
       "    </tr>\n",
       "    <tr>\n",
       "      <th>27240</th>\n",
       "      <td>power from washington d.c. and giving it back ...</td>\n",
       "      <td>2017-01-20 17:51:58</td>\n",
       "    </tr>\n",
       "  </tbody>\n",
       "</table>\n",
       "</div>"
      ],
      "text/plain": [
       "                                                    text          created_at\n",
       "27236  thank you for joining us at the lincoln memori... 2017-01-20 00:40:51\n",
       "27237  thank you for a wonderful evening in washingto... 2017-01-20 04:24:33\n",
       "27238  it all begins today! i will see you at 11:00 a... 2017-01-20 12:31:53\n",
       "27239  today we are not merely transferring power fro... 2017-01-20 17:51:25\n",
       "27240  power from washington d.c. and giving it back ... 2017-01-20 17:51:58"
      ]
     },
     "execution_count": 19,
     "metadata": {},
     "output_type": "execute_result"
    }
   ],
   "source": [
    "new_df.text=new_df.text.str.lower()\n",
    "new_df.head()"
   ]
  },
  {
   "cell_type": "code",
   "execution_count": 20,
   "metadata": {},
   "outputs": [],
   "source": [
    "tokenizer = RegexpTokenizer(r'[\\w\\']+') #Overall, \"words\" in the corpus are any number of letters, digits, and apostrophes. No hyphens or other fancyness.\n",
    "stop_words = set(stopwords.words('english'))"
   ]
  },
  {
   "cell_type": "markdown",
   "metadata": {},
   "source": [
    "stop_words = set(stopwords.words('english'))\n",
    "stop_words.update(['co','https','rt','amp'])  #removal of website related words\n",
    "stop_words.update(['u','00','p', 'would', 'realdonaldtrump'])  #removal of website related and other words"
   ]
  },
  {
   "cell_type": "code",
   "execution_count": 28,
   "metadata": {},
   "outputs": [
    {
     "name": "stdout",
     "output_type": "stream",
     "text": [
      "50 Most Common words - \n"
     ]
    },
    {
     "data": {
      "text/plain": [
       "[('co', 2240),\n",
       " ('https', 2232),\n",
       " ('great', 1518),\n",
       " ('amp', 1152),\n",
       " ('rt', 1015),\n",
       " ('people', 789),\n",
       " ('president', 642),\n",
       " ('trump', 599),\n",
       " ('country', 568),\n",
       " ('news', 550),\n",
       " ('u', 512),\n",
       " ('fake', 495),\n",
       " ('big', 481),\n",
       " ('thank', 467),\n",
       " ('border', 467),\n",
       " ('democrats', 465),\n",
       " ('many', 464),\n",
       " ('today', 435),\n",
       " ('america', 416),\n",
       " ('get', 407),\n",
       " ('time', 394),\n",
       " ('new', 372),\n",
       " ('much', 338),\n",
       " ('would', 336),\n",
       " ('american', 335),\n",
       " ('realdonaldtrump', 328),\n",
       " ('good', 316),\n",
       " ('want', 316),\n",
       " ('years', 302),\n",
       " ('must', 302),\n",
       " ('never', 300),\n",
       " ('media', 295),\n",
       " ('security', 293),\n",
       " ('back', 287),\n",
       " ('vote', 284),\n",
       " ('wall', 283),\n",
       " ('one', 280),\n",
       " ('make', 278),\n",
       " ('jobs', 276),\n",
       " ('military', 272),\n",
       " ('united', 265),\n",
       " ('trade', 261),\n",
       " ('house', 260),\n",
       " ('states', 255),\n",
       " ('tax', 253),\n",
       " ('first', 251),\n",
       " ('job', 250),\n",
       " ('going', 247),\n",
       " ('election', 246),\n",
       " ('crime', 246)]"
      ]
     },
     "metadata": {},
     "output_type": "display_data"
    }
   ],
   "source": [
    "text_array=[]\n",
    "for index, row in new_df.iterrows():\n",
    "    word_token=tokenizer.tokenize(row['text'])\n",
    "    purged_word_list=[cur_word for cur_word in word_token if cur_word not in stop_words]\n",
    "    text_array.append(purged_word_list)\n",
    "\n",
    "flat_list = [item for sublist in text_array for item in sublist]\n",
    "counts = Counter(flat_list) \n",
    "print('50 Most Common words - ')\n",
    "display(counts.most_common(50))"
   ]
  },
  {
   "cell_type": "markdown",
   "metadata": {},
   "source": [
    "In common words, we observe that there are few words like - 'https', 'co', 'rt', 'realdonaldtrump' which are website jargons to tag website/hash tag/account name. We are removing them from word corpus as they will add noise to the topics"
   ]
  },
  {
   "cell_type": "code",
   "execution_count": 29,
   "metadata": {},
   "outputs": [],
   "source": [
    "stop_words.update(['co','https','rt','amp'])  #removal of website related words\n",
    "stop_words.update(['u','00','p', 'would', 'realdonaldtrump'])  #removal of website related and other words"
   ]
  },
  {
   "cell_type": "code",
   "execution_count": 31,
   "metadata": {},
   "outputs": [
    {
     "data": {
      "text/plain": [
       "[('great', 1518),\n",
       " ('people', 789),\n",
       " ('president', 642),\n",
       " ('trump', 599),\n",
       " ('country', 568),\n",
       " ('news', 550),\n",
       " ('fake', 495),\n",
       " ('big', 481),\n",
       " ('thank', 467),\n",
       " ('border', 467),\n",
       " ('democrats', 465),\n",
       " ('many', 464),\n",
       " ('today', 435),\n",
       " ('america', 416),\n",
       " ('get', 407),\n",
       " ('time', 394),\n",
       " ('new', 372),\n",
       " ('much', 338),\n",
       " ('american', 335),\n",
       " ('good', 316),\n",
       " ('want', 316),\n",
       " ('years', 302),\n",
       " ('must', 302),\n",
       " ('never', 300),\n",
       " ('media', 295),\n",
       " ('security', 293),\n",
       " ('back', 287),\n",
       " ('vote', 284),\n",
       " ('wall', 283),\n",
       " ('one', 280),\n",
       " ('make', 278),\n",
       " ('jobs', 276),\n",
       " ('military', 272),\n",
       " ('united', 265),\n",
       " ('trade', 261),\n",
       " ('house', 260),\n",
       " ('states', 255),\n",
       " ('tax', 253),\n",
       " ('first', 251),\n",
       " ('job', 250),\n",
       " ('going', 247),\n",
       " ('election', 246),\n",
       " ('crime', 246),\n",
       " ('even', 245),\n",
       " ('state', 245),\n",
       " ('russia', 241),\n",
       " ('fbi', 238),\n",
       " ('done', 237),\n",
       " ('day', 234),\n",
       " ('working', 221)]"
      ]
     },
     "execution_count": 31,
     "metadata": {},
     "output_type": "execute_result"
    }
   ],
   "source": [
    "#Updating the word corpus using new stoplist\n",
    "text_array=[]\n",
    "for index, row in new_df.iterrows():\n",
    "    word_token=tokenizer.tokenize(row['text'])\n",
    "    purged_word_list=[cur_word for cur_word in word_token if cur_word not in stop_words]\n",
    "    text_array.append(purged_word_list)\n",
    "\n",
    "flat_list = [item for sublist in text_array for item in sublist]\n",
    "counts = Counter(flat_list) \n",
    "counts.most_common(50)"
   ]
  },
  {
   "cell_type": "markdown",
   "metadata": {},
   "source": [
    "Find the optimal number of topics using the `u_mass` coherence measure. Plot the results; what does this plot suggest about the number of topics in the text?"
   ]
  },
  {
   "cell_type": "code",
   "execution_count": 32,
   "metadata": {},
   "outputs": [],
   "source": [
    "masterdictionary = Dictionary(text_array)\n",
    "mastercorpus = [masterdictionary.doc2bow(doc) for doc in text_array]"
   ]
  },
  {
   "cell_type": "code",
   "execution_count": 33,
   "metadata": {},
   "outputs": [
    {
     "data": {
      "text/plain": [
       "13283"
      ]
     },
     "execution_count": 33,
     "metadata": {},
     "output_type": "execute_result"
    }
   ],
   "source": [
    "len(masterdictionary)"
   ]
  },
  {
   "cell_type": "code",
   "execution_count": 34,
   "metadata": {},
   "outputs": [
    {
     "data": {
      "text/plain": [
       "([(70, 1), (71, 1), (72, 1)], 'tonight')"
      ]
     },
     "execution_count": 34,
     "metadata": {},
     "output_type": "execute_result"
    }
   ],
   "source": [
    "mastercorpus[10], masterdictionary[10]"
   ]
  },
  {
   "cell_type": "code",
   "execution_count": 37,
   "metadata": {},
   "outputs": [
    {
     "name": "stdout",
     "output_type": "stream",
     "text": [
      "1 -2.836112813115301\n",
      "2 -2.811078522113243\n",
      "3 -2.907078504975352\n",
      "4 -3.0720272350300735\n",
      "5 -3.8950218943996404\n",
      "6 -3.684866289977364\n",
      "7 -3.600567222131762\n",
      "8 -4.824266266181133\n",
      "9 -4.695469031345399\n"
     ]
    }
   ],
   "source": [
    "# u_mass coherence\n",
    "coherence_vals = []\n",
    "ntopics=10\n",
    "for ntop in range(1, ntopics):\n",
    "    mod = LdaModel(mastercorpus, num_topics = ntop, id2word = masterdictionary, passes=15, random_state=109)\n",
    "    cmod = CoherenceModel(model=mod, corpus=mastercorpus, dictionary=masterdictionary, coherence='u_mass')\n",
    "    cval = cmod.get_coherence()\n",
    "    print(ntop, cval)\n",
    "    coherence_vals.append(cval)"
   ]
  },
  {
   "cell_type": "code",
   "execution_count": 39,
   "metadata": {
    "scrolled": true
   },
   "outputs": [
    {
     "data": {
      "text/plain": [
       "Text(0, 0.5, 'Coherence Score')"
      ]
     },
     "execution_count": 39,
     "metadata": {},
     "output_type": "execute_result"
    },
    {
     "data": {
      "image/png": "[encoded data removed]",
      "text/plain": [
       "<Figure size 432x288 with 1 Axes>"
      ]
     },
     "metadata": {
      "needs_background": "light"
     },
     "output_type": "display_data"
    }
   ],
   "source": [
    "plt.figure(figsize=(6,4))\n",
    "plt.plot(range(1,ntopics),coherence_vals)\n",
    "plt.xlabel(\"Number of Topics\")\n",
    "plt.ylabel(\"Coherence Score\")"
   ]
  },
  {
   "cell_type": "markdown",
   "metadata": {},
   "source": [
    "'U-mass' coherence graph suggests that k=2 is the optimal number of topics."
   ]
  },
  {
   "cell_type": "markdown",
   "metadata": {},
   "source": [
    "Run LDA on the texts using the optimal value of $k$ found via your analysis above. Print out the top 10 words and associated betas for each of the $k$ topics. Comment on the results and their plausibility. What does each topic seem to represent?"
   ]
  },
  {
   "cell_type": "code",
   "execution_count": 61,
   "metadata": {},
   "outputs": [],
   "source": [
    "ntop=3\n",
    "topicno=LdaModel(mastercorpus, num_topics = ntop, id2word = masterdictionary, passes=15)\n",
    "top_words=[[word for word,_ in mod.show_topic(topicno, topn=50)] for topicno in range(mod.num_topics)]\n",
    "top_betas=[[beta for _,beta in mod.show_topic(topicno, topn=50)] for topicno in range(mod.num_topics)]"
   ]
  },
  {
   "cell_type": "code",
   "execution_count": 62,
   "metadata": {},
   "outputs": [
    {
     "data": {
      "text/plain": [
       "[0.013323517,\n",
       " 0.0120026255,\n",
       " 0.010475214,\n",
       " 0.009968328,\n",
       " 0.009657222,\n",
       " 0.009436673,\n",
       " 0.008941829,\n",
       " 0.008506143,\n",
       " 0.007473585,\n",
       " 0.0069371383]"
      ]
     },
     "execution_count": 62,
     "metadata": {},
     "output_type": "execute_result"
    }
   ],
   "source": [
    "top_words[0][:10]\n",
    "top_betas[0][:10]"
   ]
  },
  {
   "cell_type": "code",
   "execution_count": 63,
   "metadata": {
    "scrolled": false
   },
   "outputs": [
    {
     "data": {
      "image/png": "[encoded data removed]",
      "text/plain": [
       "<Figure size 720x360 with 3 Axes>"
      ]
     },
     "metadata": {
      "needs_background": "light"
     },
     "output_type": "display_data"
    }
   ],
   "source": [
    "gs  = gridspec.GridSpec(2,2)\n",
    "gs.update(wspace=0.6, hspace=0.6)\n",
    "plt.figure(figsize=(10,5))\n",
    "for i in range(ntop):\n",
    "    #new subplot\n",
    "    ax = plt.subplot(gs[i])\n",
    "    plt.barh(range(10), top_betas[i][:10], align='center',color='blue', ecolor='black')\n",
    "    ax.invert_yaxis()\n",
    "    ax.set_yticks(range(10))\n",
    "    ax.set_yticklabels(top_words[i][:10])\n",
    "    plt.title(\"Topic \"+str(i+1))"
   ]
  },
  {
   "cell_type": "markdown",
   "metadata": {},
   "source": [
    "Although 'U-mass' coherence graph suggests optimal topics as 2, after few trial and errors we noticed that k=3 was providing meaningful topics and covering more ground. Also the difference between the 'U mass' coherence is not significant for k=2 and 3."
   ]
  }
 ],
 "metadata": {
  "kernelspec": {
   "display_name": "Python 3",
   "language": "python",
   "name": "python3"
  },
  "language_info": {
   "codemirror_mode": {
    "name": "ipython",
    "version": 3
   },
   "file_extension": ".py",
   "mimetype": "text/x-python",
   "name": "python",
   "nbconvert_exporter": "python",
   "pygments_lexer": "ipython3",
   "version": "3.6.7"
  }
 },
 "nbformat": 4,
 "nbformat_minor": 2
}
